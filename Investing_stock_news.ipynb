{
 "cells": [
  {
   "cell_type": "code",
   "execution_count": 87,
   "metadata": {},
   "outputs": [],
   "source": [
    "from bs4 import BeautifulSoup\n",
    "from selenium import webdriver\n",
    "import pandas as pd\n",
    "import datetime as dt\n",
    "from datetime import timedelta\n",
    "import dateutil.parser as dparser\n",
    "from urllib.request import urlopen\n",
    "import http.client\n",
    "import urllib.request as Request\n",
    "import urllib3\n",
    "from urllib3.exceptions import HTTPError\n",
    "import re\n",
    "import datetime as dt\n",
    "import requests\n",
    "from urllib.error import HTTPError, URLError"
   ]
  },
  {
   "cell_type": "code",
   "execution_count": 32,
   "metadata": {},
   "outputs": [
    {
     "name": "stdout",
     "output_type": "stream",
     "text": [
      "8\n",
      "9\n",
      "10\n"
     ]
    }
   ],
   "source": [
    "for page in range(8,11):\n",
    "    print(page)"
   ]
  },
  {
   "cell_type": "code",
   "execution_count": 99,
   "metadata": {
    "scrolled": false
   },
   "outputs": [
    {
     "name": "stdout",
     "output_type": "stream",
     "text": [
      "Current page: 86\n",
      "https://www.investing.com/equities/apple-computer-inc-news/86\n",
      "0\n",
      "'NoneType' object has no attribute 'find'\n",
      "1\n",
      "'NoneType' object has no attribute 'find'\n",
      "2\n",
      "'NoneType' object has no attribute 'find'\n",
      "3\n",
      "ori /news/stock-market-news/apple-is-raising-iphone-11-output-by-up-to-10-nikkei-says-1991851\n",
      "4\n",
      "ori /news/technology-news/softbanks-plans-for-second-megafund-hit-by-wework-debacle-1991796\n",
      "5\n",
      "ori /news/stock-market-news/apple-ceo-sees-uschina-trade-deal-hopes-tariffs-dropped-1991693\n",
      "6\n",
      "ori /news/stock-market-news/stocks--wall-street-sees-a-modest-rally-after-heavy-losses-1991647\n",
      "7\n",
      "ori /news/stock-market-news/apple-chief-says-against-ceiling-on-hiring-of-qualified-migrants-1991574\n",
      "8\n",
      "ori /news/technology-news/italy-prosecutors-open-netflix-tax-evasion-investigation-source-1991229\n",
      "9\n",
      "ori /news/world-news/apple-ceo-cook-opposes-trump-backs-dreamer-immigrants-in-supreme-court-1991055\n",
      "10\n",
      "ori /news/stock-market-news/stocks--sp-sees-worst-loss-since-august-on-global-economic-fears-1991048\n",
      "11\n",
      "ori /news/technology-news/london-court-allows-mass-claim-against-google-over-iphone-data-1990797\n",
      "12\n",
      "ori /news/stock-market-news/stocks-sp-slumps-as-weak-manufacturing-data-stuns-traders-1990358\n",
      "Current page: 87\n",
      "https://www.investing.com/equities/apple-computer-inc-news/87\n",
      "0\n",
      "'NoneType' object has no attribute 'find'\n",
      "1\n",
      "'NoneType' object has no attribute 'find'\n",
      "2\n",
      "'NoneType' object has no attribute 'find'\n",
      "3\n",
      "ori /news/stock-market-news/stocks--wall-street-falls-after-weak-ism-data-1989981\n",
      "4\n",
      "ori /news/stock-market-news/stocks--us-futures-point-to-positive-start-to-q4-1989751\n",
      "5\n",
      "ori /news/stock-market-news/stocks--apple-helps-sp-rally-as-a-quarter-of-struggles-ends-1989356\n",
      "6\n",
      "ori /news/world-news/restive-hong-kong-hunkers-down-as-chinas-birthday-celebrations-begin-1989497\n",
      "7\n",
      "ori /news/technology-news/tsmc-countersues-us-chip-rival-globalfoundries-for-patent-infringement-1989641\n",
      "8\n",
      "ori /news/stock-market-news/chip-stocks-propel-gains-in-europe-airlines-soar-1989607\n",
      "9\n",
      "ori /news/stock-market-news/us-stocks-higher-at-close-of-trade-dow-jones-industrial-average-up-036-1989445\n",
      "10\n",
      "ori /news/stock-market-news/wall-street-rises-as-apple-leads-rally-in-technology-shares-1988927\n",
      "11\n",
      "ori /news/stock-market-news/apple-is-denied-tariff-relief-on-five-mac-pro-parts-after-staying-in-texas-1989338\n",
      "12\n",
      "ori /news/stock-market-news/stocks--wall-street-rises-as-chinese-capital-curbs-downplayed-1989043\n"
     ]
    }
   ],
   "source": [
    "company_name=\"apple-computer\"\n",
    "\n",
    "for page in range(86,88):\n",
    "    print(\"Current page: \"+str(page))\n",
    "    web_url=\"https://www.investing.com/equities/\"+company_name+\"-inc-news/\"+str(page)\n",
    "    print(web_url)\n",
    "    soup1=web_scrapper(str(web_url))\n",
    "    df=scrape_element(soup1)\n",
    "    news_df=pd.DataFrame(df)\n",
    "    news_df\n",
    "    path=\"G:\\\\Desktop\\\\UM Master Data Science\\\\DS project\\\\News_data\\\\Investing_\"+'{0:%Y%m%d_%H%M%S}'.format(dt.datetime.now())+'.csv'\n",
    "\n",
    "    news_df.to_csv(path)"
   ]
  },
  {
   "cell_type": "code",
   "execution_count": 41,
   "metadata": {},
   "outputs": [],
   "source": [
    "def web_scrapper(web_url):\n",
    "    soup1=[]\n",
    "    driver = webdriver.Chrome()\n",
    "    driver.get(web_url)\n",
    "    res = driver.execute_script(\"return document.documentElement.outerHTML\")\n",
    "    driver.quit()\n",
    "    soup1 = BeautifulSoup(res, 'lxml')\n",
    "    return soup1"
   ]
  },
  {
   "cell_type": "code",
   "execution_count": 89,
   "metadata": {},
   "outputs": [],
   "source": [
    "def scrape_element(soup1):\n",
    "    df=[]\n",
    "\n",
    "    headlines=soup1.select(\"div.textDiv\")\n",
    "    for index,line in enumerate(headlines):\n",
    "        if line.find('a',class_=\"title\").get('href').find('webinars')==-1:\n",
    "            try:\n",
    "                title,date,urls,news_content=\"\",\"\",\"\",\"\"\n",
    "                print(index)\n",
    "                title=line.find('a',class_=\"title\").text\n",
    "                d=line.find('span', class_ =\"date\")\n",
    "                if d.find('Now')==1 or d.find('ago')==1:\n",
    "                    date='{0:%Y/%m/%d}'.format(dt.datetime.now())\n",
    "                else:\n",
    "                    date=(dparser.parse(d,fuzzy=True).strftime('%Y%m%d'))\n",
    "                urls=(line.find(\"a\",class_='title').get('href'))\n",
    "                print('ori '+urls)\n",
    "                if urls.find('http')==-1:\n",
    "                    urls='https://investing.com'+urls\n",
    "                else:\n",
    "                    urls\n",
    "                    print(urls)\n",
    "                try:\n",
    "                    html=Request.Request(urls, headers={'User-Agent': 'Mozilla/5.0'})\n",
    "                    news_tmp = urlopen(html).read().decode('utf-8')\n",
    "                    news_content=BeautifulSoup(news_tmp,'lxml')\n",
    "                    news_content=re.sub(r'<.*?>', '', str(news_content.select(\"p\"))).replace(\"\\r\\n\",\"\").replace(\"\\n\",\"\")\n",
    "                except (HTTPError,requests.exceptions.HTTPError) as e:\n",
    "                    print(str(e))\n",
    "            except (urllib3.exceptions.ProtocolError,http.client.HTTPException,ValueError,TypeError,AttributeError,HTTPError,requests.exceptions.HTTPError) as e:\n",
    "                print(str(e))\n",
    "            df.append({'title':title,'date':date,'urls':urls,'news_content':news_content})\n",
    "    return df"
   ]
  },
  {
   "cell_type": "code",
   "execution_count": 147,
   "metadata": {},
   "outputs": [
    {
     "name": "stdout",
     "output_type": "stream",
     "text": [
      "0\n",
      "'NoneType' object has no attribute 'find'\n",
      "1\n",
      "'NoneType' object has no attribute 'find'\n",
      "2\n",
      "'NoneType' object has no attribute 'find'\n",
      "3\n",
      "ori /news/technology-news/apple-removes-policetracking-app-used-in-hong-kong-protests-from-its-app-store-1994238\n",
      "4\n",
      "ori /news/technology-news/google-pulls-hong-kong-protester-roleplaying-app-1994590\n",
      "5\n",
      "ori /news/stock-market-news/stocks--wall-street-flat-as-highlevel-uschina-trade-talks-begin-1994497\n",
      "6\n",
      "ori /news/stock-market-news/aramco-to-give-green-light-for-worlds-biggest-ipo-next-week-1994461\n",
      "7\n",
      "ori /news/stock-market-news/stocks--delta-pge-fall-premarket-apple-gains-1994449\n",
      "8\n",
      "ori /news/stock-market-news/stocks--us-futures-flat-ahead-of-trade-talks-1994385\n",
      "9\n",
      "ori /news/world-news/more-hong-kong-protests-planned-as-metro-limps-back-to-business-1994236\n",
      "10\n",
      "ori /news/stock-market-news/apple-pulls-app-that-tracks-police-activity-in-hong-kong-1994314\n",
      "11\n",
      "ori /news/technology-news/uks-iqe-to-acquire-singaporean-jv-in-strategic-shift-to-asia-1994278\n",
      "12\n",
      "ori /news/technology-news/samsung-display-to-invest-11-billion-by-2025-blue-house-1994225\n"
     ]
    }
   ],
   "source": [
    "df=[]\n",
    "\n",
    "headlines=soup1.select(\"div.textDiv\")\n",
    "#soup1.select(\"div.textDiv\")[12].find('a',class_=\"title\").text\n",
    "#soup1.select(\"div.textDiv\")[12].find('span',class_=\"date\").text\n",
    "#headlines[13].find('a',class_=\"title\").get('href').find('webinars')\n",
    "for index,line in enumerate(headlines):\n",
    "    if line.find('a',class_=\"title\").get('href').find('webinars')==-1:\n",
    "        try:\n",
    "            title,date,urls,news_content=\"\",\"\",\"\",\"\"\n",
    "            print(index)\n",
    "            title=line.find('a',class_=\"title\").text\n",
    "            d=line.find('span', class_ =\"date\")\n",
    "            if d.find('Now')==1 or d.find('ago')==1:\n",
    "                date='{0:%Y/%m/%d}'.format(dt.datetime.now())\n",
    "            else:\n",
    "                date=(dparser.parse(d,fuzzy=True).strftime('%Y%m%d'))\n",
    "            urls=(line.find(\"a\",class_='title').get('href'))\n",
    "            print('ori '+urls)\n",
    "            if urls.find('http')==-1:\n",
    "                urls='https://investing.com'+urls\n",
    "            else:\n",
    "                urls\n",
    "                print(urls)\n",
    "            html=Request.Request(urls, headers={'User-Agent': 'Mozilla/5.0'})\n",
    "            news_tmp = urlopen(html).read()\n",
    "            news_content=BeautifulSoup(news_tmp,'lxml')\n",
    "            news_content=re.sub(r'<.*?>', '', str(news_content.select(\"p\"))).replace(\"\\r\\n\",\"\").replace(\"\\n\",\"\")\n",
    "        except (urllib3.exceptions.ProtocolError,http.client.HTTPException,ValueError,TypeError,AttributeError) as e:\n",
    "            print(str(e))\n",
    "        df.append({'title':title,'date':date,'urls':urls,'news_content':news_content})\n"
   ]
  },
  {
   "cell_type": "code",
   "execution_count": 148,
   "metadata": {},
   "outputs": [
    {
     "data": {
      "text/html": [
       "<div>\n",
       "<style scoped>\n",
       "    .dataframe tbody tr th:only-of-type {\n",
       "        vertical-align: middle;\n",
       "    }\n",
       "\n",
       "    .dataframe tbody tr th {\n",
       "        vertical-align: top;\n",
       "    }\n",
       "\n",
       "    .dataframe thead th {\n",
       "        text-align: right;\n",
       "    }\n",
       "</style>\n",
       "<table border=\"1\" class=\"dataframe\">\n",
       "  <thead>\n",
       "    <tr style=\"text-align: right;\">\n",
       "      <th></th>\n",
       "      <th>date</th>\n",
       "      <th>news_content</th>\n",
       "      <th>title</th>\n",
       "      <th>urls</th>\n",
       "    </tr>\n",
       "  </thead>\n",
       "  <tbody>\n",
       "    <tr>\n",
       "      <th>0</th>\n",
       "      <td></td>\n",
       "      <td></td>\n",
       "      <td>Breaking: Nasdaq Crosses 9,000</td>\n",
       "      <td></td>\n",
       "    </tr>\n",
       "    <tr>\n",
       "      <th>1</th>\n",
       "      <td></td>\n",
       "      <td></td>\n",
       "      <td>Global stocks rally to record highs; gold gains</td>\n",
       "      <td></td>\n",
       "    </tr>\n",
       "    <tr>\n",
       "      <th>2</th>\n",
       "      <td></td>\n",
       "      <td></td>\n",
       "      <td>Oil up 1% at highest since September on trade ...</td>\n",
       "      <td></td>\n",
       "    </tr>\n",
       "    <tr>\n",
       "      <th>3</th>\n",
       "      <td>20191010</td>\n",
       "      <td>[No results matched your search, By Stephen Ne...</td>\n",
       "      <td>Apple pulls app used to track Hong Kong police...</td>\n",
       "      <td>https://investing.com/news/technology-news/app...</td>\n",
       "    </tr>\n",
       "    <tr>\n",
       "      <th>4</th>\n",
       "      <td>20191010</td>\n",
       "      <td>[No results matched your search, By Elizabeth ...</td>\n",
       "      <td>Google pulls Hong Kong protester role-playing app</td>\n",
       "      <td>https://investing.com/news/technology-news/goo...</td>\n",
       "    </tr>\n",
       "    <tr>\n",
       "      <th>5</th>\n",
       "      <td>20191010</td>\n",
       "      <td>[No results matched your search, Investing.com...</td>\n",
       "      <td>Stocks - Wall Street Flat as High-Level U.S.-C...</td>\n",
       "      <td>https://investing.com/news/stock-market-news/s...</td>\n",
       "    </tr>\n",
       "    <tr>\n",
       "      <th>6</th>\n",
       "      <td>20191010</td>\n",
       "      <td>[No results matched your search, (Bloomberg) -...</td>\n",
       "      <td>Aramco to Give Green Light for World’s Biggest...</td>\n",
       "      <td>https://investing.com/news/stock-market-news/a...</td>\n",
       "    </tr>\n",
       "    <tr>\n",
       "      <th>7</th>\n",
       "      <td>20191010</td>\n",
       "      <td>[No results matched your search, Investing.com...</td>\n",
       "      <td>Stocks - Delta, PG&amp;E Fall Premarket; Apple Gains</td>\n",
       "      <td>https://investing.com/news/stock-market-news/s...</td>\n",
       "    </tr>\n",
       "    <tr>\n",
       "      <th>8</th>\n",
       "      <td>20191010</td>\n",
       "      <td>[No results matched your search, Investing.com...</td>\n",
       "      <td>Stocks - U.S. Futures Flat Ahead of Trade Talks</td>\n",
       "      <td>https://investing.com/news/stock-market-news/s...</td>\n",
       "    </tr>\n",
       "    <tr>\n",
       "      <th>9</th>\n",
       "      <td>20191010</td>\n",
       "      <td>[No results matched your search, HONG KONG (Re...</td>\n",
       "      <td>Hong Kong shopping malls, metro close early as...</td>\n",
       "      <td>https://investing.com/news/world-news/more-hon...</td>\n",
       "    </tr>\n",
       "    <tr>\n",
       "      <th>10</th>\n",
       "      <td>20191010</td>\n",
       "      <td>[No results matched your search, , (Bloomberg)...</td>\n",
       "      <td>Apple Pulls App That Tracks Police Activity in...</td>\n",
       "      <td>https://investing.com/news/stock-market-news/a...</td>\n",
       "    </tr>\n",
       "    <tr>\n",
       "      <th>11</th>\n",
       "      <td>20191010</td>\n",
       "      <td>[No results matched your search, (Reuters) - C...</td>\n",
       "      <td>UK's IQE to take over Singapore joint venture</td>\n",
       "      <td>https://investing.com/news/technology-news/uks...</td>\n",
       "    </tr>\n",
       "    <tr>\n",
       "      <th>12</th>\n",
       "      <td>20191010</td>\n",
       "      <td>[No results matched your search, SEOUL (Reuter...</td>\n",
       "      <td>Samsung Display to invest $11 billion by 2025 ...</td>\n",
       "      <td>https://investing.com/news/technology-news/sam...</td>\n",
       "    </tr>\n",
       "  </tbody>\n",
       "</table>\n",
       "</div>"
      ],
      "text/plain": [
       "        date                                       news_content  \\\n",
       "0                                                                 \n",
       "1                                                                 \n",
       "2                                                                 \n",
       "3   20191010  [No results matched your search, By Stephen Ne...   \n",
       "4   20191010  [No results matched your search, By Elizabeth ...   \n",
       "5   20191010  [No results matched your search, Investing.com...   \n",
       "6   20191010  [No results matched your search, (Bloomberg) -...   \n",
       "7   20191010  [No results matched your search, Investing.com...   \n",
       "8   20191010  [No results matched your search, Investing.com...   \n",
       "9   20191010  [No results matched your search, HONG KONG (Re...   \n",
       "10  20191010  [No results matched your search, , (Bloomberg)...   \n",
       "11  20191010  [No results matched your search, (Reuters) - C...   \n",
       "12  20191010  [No results matched your search, SEOUL (Reuter...   \n",
       "\n",
       "                                                title  \\\n",
       "0                      Breaking: Nasdaq Crosses 9,000   \n",
       "1     Global stocks rally to record highs; gold gains   \n",
       "2   Oil up 1% at highest since September on trade ...   \n",
       "3   Apple pulls app used to track Hong Kong police...   \n",
       "4   Google pulls Hong Kong protester role-playing app   \n",
       "5   Stocks - Wall Street Flat as High-Level U.S.-C...   \n",
       "6   Aramco to Give Green Light for World’s Biggest...   \n",
       "7    Stocks - Delta, PG&E Fall Premarket; Apple Gains   \n",
       "8     Stocks - U.S. Futures Flat Ahead of Trade Talks   \n",
       "9   Hong Kong shopping malls, metro close early as...   \n",
       "10  Apple Pulls App That Tracks Police Activity in...   \n",
       "11      UK's IQE to take over Singapore joint venture   \n",
       "12  Samsung Display to invest $11 billion by 2025 ...   \n",
       "\n",
       "                                                 urls  \n",
       "0                                                      \n",
       "1                                                      \n",
       "2                                                      \n",
       "3   https://investing.com/news/technology-news/app...  \n",
       "4   https://investing.com/news/technology-news/goo...  \n",
       "5   https://investing.com/news/stock-market-news/s...  \n",
       "6   https://investing.com/news/stock-market-news/a...  \n",
       "7   https://investing.com/news/stock-market-news/s...  \n",
       "8   https://investing.com/news/stock-market-news/s...  \n",
       "9   https://investing.com/news/world-news/more-hon...  \n",
       "10  https://investing.com/news/stock-market-news/a...  \n",
       "11  https://investing.com/news/technology-news/uks...  \n",
       "12  https://investing.com/news/technology-news/sam...  "
      ]
     },
     "execution_count": 148,
     "metadata": {},
     "output_type": "execute_result"
    }
   ],
   "source": [
    "#pd.set_option('display.max_colwidth', -1)\n",
    "news_df=pd.DataFrame(df)\n",
    "news_df"
   ]
  },
  {
   "cell_type": "code",
   "execution_count": 149,
   "metadata": {},
   "outputs": [],
   "source": [
    "path=\"G:\\\\Desktop\\\\UM Master Data Science\\\\DS project\\\\News_data\\\\Investing_\"+'{0:%Y%m%d_%H%M%S}'.format(dt.datetime.now())+'.csv'\n",
    "news_df.to_csv(path)\n"
   ]
  },
  {
   "cell_type": "code",
   "execution_count": 268,
   "metadata": {},
   "outputs": [
    {
     "data": {
      "text/plain": [
       "'20191119'"
      ]
     },
     "execution_count": 268,
     "metadata": {},
     "output_type": "execute_result"
    }
   ],
   "source": [
    "dt.datetime.strptime(\"November 19, 2019\", '%B %d, %Y').strftime('%Y%m%d')\n",
    "dparser.parse(\"Tuesday, November 19, 2019 | 03:00AM EST\",fuzzy=True).strftime('%Y%m%d')"
   ]
  },
  {
   "cell_type": "code",
   "execution_count": 136,
   "metadata": {},
   "outputs": [
    {
     "data": {
      "text/plain": [
       "'/news/economy/stocks-rally-to-record-highs-gold-gains-2048531'"
      ]
     },
     "execution_count": 136,
     "metadata": {},
     "output_type": "execute_result"
    }
   ],
   "source": [
    "headlines=soup1.select(\"div.textDiv\")\n",
    "headlines[1].find(\"a\",class_='title').get('href')"
   ]
  },
  {
   "cell_type": "code",
   "execution_count": 82,
   "metadata": {},
   "outputs": [
    {
     "data": {
      "text/plain": [
       "'https://invst.ly/ooyqa'"
      ]
     },
     "execution_count": 82,
     "metadata": {},
     "output_type": "execute_result"
    }
   ],
   "source": [
    "soup1.select(\"div.textDiv\")[9].find(\"a\",class_='title').get('href')\n"
   ]
  }
 ],
 "metadata": {
  "kernelspec": {
   "display_name": "Python 3",
   "language": "python",
   "name": "python3"
  },
  "language_info": {
   "codemirror_mode": {
    "name": "ipython",
    "version": 3
   },
   "file_extension": ".py",
   "mimetype": "text/x-python",
   "name": "python",
   "nbconvert_exporter": "python",
   "pygments_lexer": "ipython3",
   "version": "3.7.3"
  }
 },
 "nbformat": 4,
 "nbformat_minor": 2
}
